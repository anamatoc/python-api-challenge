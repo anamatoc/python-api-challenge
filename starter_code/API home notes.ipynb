{
 "cells": [
  {
   "cell_type": "markdown",
   "id": "e1a0b932",
   "metadata": {},
   "source": [
    "## APIs\n",
    " - notes:\n",
    "\n",
    " "
   ]
  },
  {
   "cell_type": "code",
   "execution_count": null,
   "id": "cd9e205a",
   "metadata": {},
   "outputs": [],
   "source": [
    "# 1. Dependencies \n",
    "import requests\n",
    "import json\n",
    "# json will be directory from Python to orgnice the information"
   ]
  },
  {
   "cell_type": "code",
   "execution_count": null,
   "id": "45912e70",
   "metadata": {},
   "outputs": [],
   "source": [
    "# 2. Add the URL as a vehicle data\n",
    "url = the_url_you_choose"
   ]
  },
  {
   "cell_type": "code",
   "execution_count": 1,
   "id": "c842912c",
   "metadata": {},
   "outputs": [
    {
     "ename": "NameError",
     "evalue": "name 'requests' is not defined",
     "output_type": "error",
     "traceback": [
      "\u001b[1;31m---------------------------------------------------------------------------\u001b[0m",
      "\u001b[1;31mNameError\u001b[0m                                 Traceback (most recent call last)",
      "Cell \u001b[1;32mIn[1], line 2\u001b[0m\n\u001b[0;32m      1\u001b[0m \u001b[38;5;66;03m# 3. Print = import*URL\u001b[39;00m\n\u001b[1;32m----> 2\u001b[0m \u001b[38;5;28mprint\u001b[39m (\u001b[43mrequests\u001b[49m\u001b[38;5;241m.\u001b[39mget(url))\n",
      "\u001b[1;31mNameError\u001b[0m: name 'requests' is not defined"
     ]
    }
   ],
   "source": [
    "# 3. Print = import*URL\n",
    "print (requests.get(url))\n",
    "\n",
    "# You'll get a response "
   ]
  },
  {
   "cell_type": "code",
   "execution_count": 2,
   "id": "b0998bbd",
   "metadata": {},
   "outputs": [
    {
     "ename": "NameError",
     "evalue": "name 'requests' is not defined",
     "output_type": "error",
     "traceback": [
      "\u001b[1;31m---------------------------------------------------------------------------\u001b[0m",
      "\u001b[1;31mNameError\u001b[0m                                 Traceback (most recent call last)",
      "Cell \u001b[1;32mIn[2], line 2\u001b[0m\n\u001b[0;32m      1\u001b[0m \u001b[38;5;66;03m# 4. Reviwing the data and convert it into JSON\u001b[39;00m\n\u001b[1;32m----> 2\u001b[0m \u001b[38;5;28mprint\u001b[39m(\u001b[43mrequests\u001b[49m\u001b[38;5;241m.\u001b[39mget(url)\u001b[38;5;241m.\u001b[39mjson())\n",
      "\u001b[1;31mNameError\u001b[0m: name 'requests' is not defined"
     ]
    }
   ],
   "source": [
    "# 4. Reviwing the data and convert it into JSON\n",
    "print(requests.get(url).json())\n",
    "# json doble parentisis at the end"
   ]
  },
  {
   "cell_type": "code",
   "execution_count": null,
   "id": "337421ab",
   "metadata": {},
   "outputs": [],
   "source": [
    "# 5. To make it readible:\n",
    "response = requests.get(url).json()\n",
    "print(json.dumps(response, indent = 4, sort_keys=True))\n",
    "# indent = 4 is the number of spaces to idenfy (read) the json string\n",
    "# sort_keys=True in JSON are guaranteed to be displayed in alphabetical order in the printed output"
   ]
  },
  {
   "cell_type": "code",
   "execution_count": null,
   "id": "2f9c209f",
   "metadata": {},
   "outputs": [],
   "source": []
  },
  {
   "cell_type": "code",
   "execution_count": null,
   "id": "3c1bc958",
   "metadata": {},
   "outputs": [],
   "source": []
  },
  {
   "cell_type": "code",
   "execution_count": null,
   "id": "4ad22b27",
   "metadata": {},
   "outputs": [],
   "source": []
  },
  {
   "cell_type": "code",
   "execution_count": null,
   "id": "958f442c",
   "metadata": {},
   "outputs": [],
   "source": []
  },
  {
   "cell_type": "code",
   "execution_count": null,
   "id": "4920de67",
   "metadata": {},
   "outputs": [],
   "source": []
  },
  {
   "cell_type": "code",
   "execution_count": null,
   "id": "24a0e8a6",
   "metadata": {},
   "outputs": [],
   "source": []
  },
  {
   "cell_type": "code",
   "execution_count": null,
   "id": "3c10cf6b",
   "metadata": {},
   "outputs": [],
   "source": []
  }
 ],
 "metadata": {
  "kernelspec": {
   "display_name": "Python 3 (ipykernel)",
   "language": "python",
   "name": "python3"
  },
  "language_info": {
   "codemirror_mode": {
    "name": "ipython",
    "version": 3
   },
   "file_extension": ".py",
   "mimetype": "text/x-python",
   "name": "python",
   "nbconvert_exporter": "python",
   "pygments_lexer": "ipython3",
   "version": "3.10.11"
  }
 },
 "nbformat": 4,
 "nbformat_minor": 5
}
